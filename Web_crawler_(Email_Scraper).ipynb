{
  "nbformat": 4,
  "nbformat_minor": 0,
  "metadata": {
    "colab": {
      "provenance": [],
      "include_colab_link": true
    },
    "kernelspec": {
      "name": "python3",
      "display_name": "Python 3"
    },
    "language_info": {
      "name": "python"
    }
  },
  "cells": [
    {
      "cell_type": "markdown",
      "metadata": {
        "id": "view-in-github",
        "colab_type": "text"
      },
      "source": [
        "<a href=\"https://colab.research.google.com/github/lakhbir-05/miniproject11/blob/main/Web_crawler_(Email_Scraper).ipynb\" target=\"_parent\"><img src=\"https://colab.research.google.com/assets/colab-badge.svg\" alt=\"Open In Colab\"/></a>"
      ]
    },
    {
      "cell_type": "code",
      "execution_count": 1,
      "metadata": {
        "colab": {
          "base_uri": "https://localhost:8080/"
        },
        "id": "MoPT_Lajn-be",
        "outputId": "3618930c-df81-4553-cb7e-a4ac84b0c5ba"
      },
      "outputs": [
        {
          "output_type": "stream",
          "name": "stdout",
          "text": [
            "Requirement already satisfied: beautifulsoup4 in /usr/local/lib/python3.11/dist-packages (4.13.4)\n",
            "Requirement already satisfied: lxml in /usr/local/lib/python3.11/dist-packages (5.4.0)\n",
            "Requirement already satisfied: tqdm in /usr/local/lib/python3.11/dist-packages (4.67.1)\n",
            "Requirement already satisfied: soupsieve>1.2 in /usr/local/lib/python3.11/dist-packages (from beautifulsoup4) (2.7)\n",
            "Requirement already satisfied: typing-extensions>=4.0.0 in /usr/local/lib/python3.11/dist-packages (from beautifulsoup4) (4.14.0)\n"
          ]
        },
        {
          "output_type": "stream",
          "name": "stderr",
          "text": [
            "100%|██████████| 50/50 [01:23<00:00,  1.68s/it]"
          ]
        },
        {
          "output_type": "stream",
          "name": "stdout",
          "text": [
            "\n",
            "✅ Found 59 unique emails:\n",
            "\n",
            "-ajaykumar@thapar.edu\n",
            "-karun.verma@thapar.edu\n",
            "admissions@thapar.edu\n",
            "application.support@thapar.edu\n",
            "caretaker.a@thapar.edu\n",
            "caretaker.b@thapar.edu\n",
            "caretaker.c@thapar.edu\n",
            "caretaker.d@thapar.edu\n",
            "caretaker.e@thapar.edu\n",
            "caretaker.frfg@thapar.edu\n",
            "caretaker.g@thapar.edu\n",
            "caretaker.h@thapar.edu\n",
            "caretaker.i@thapar.edu\n",
            "caretaker.j@thapar.edu\n",
            "caretaker.k@thapar.edu\n",
            "caretaker.l@thapar.edu\n",
            "caretaker.m@thapar.edu\n",
            "caretaker.n@thapar.edu\n",
            "caretaker.o@thapar.edu\n",
            "caretaker.pg@thapar.edu\n",
            "caretaker.q@thapar.edu\n",
            "ddct@thapar.edu\n",
            "dean.outreach@thapar.edu\n",
            "dean.sustainability@thapar.edu\n",
            "deputydirector@thapar.edu\n",
            "director@thapar.edu\n",
            "doaa@thapar.edu\n",
            "dofa@thapar.edu\n",
            "dopa@thapar.edu\n",
            "dorsp@thapar.edu\n",
            "dosa@thapar.edu\n",
            "dydirector1@thapar.edu\n",
            "info@thapar.edu\n",
            "khushneet.jindal@thapar.edu\n",
            "mba_admission@thapar.edu\n",
            "ranking@thapar.edu\n",
            "registrar@thapar.edu\n",
            "ruchi@thapar.edu\n",
            "technical_support@thapar.edu\n",
            "thapar@thapar.edu\n",
            "tpo@thapar.edu\n",
            "warden.k@thapar.edu\n",
            "warden.o@thapar.edu\n",
            "wardena@thapar.edu\n",
            "wardenb@thapar.edu\n",
            "wardenc@thapar.edu\n",
            "wardend@thapar.edu\n",
            "wardene@thapar.edu\n",
            "wardeng@thapar.edu\n",
            "wardenh@thapar.edu\n",
            "wardeni@thapar.edu\n",
            "wardenj@thapar.edu\n",
            "wardenl@thapar.edu\n",
            "wardenm1@thapar.edu\n",
            "wardenm2@thapar.edu\n",
            "wardenmfrfg@thapar.edu\n",
            "wardenn@thapar.edu\n",
            "wardenpg@thapar.edu\n",
            "wardenq@thapar.edu\n"
          ]
        },
        {
          "output_type": "stream",
          "name": "stderr",
          "text": [
            "\n"
          ]
        }
      ],
      "source": [
        "# Step 1: Install required libraries (BeautifulSoup & tqdm)\n",
        "!pip install beautifulsoup4 lxml tqdm\n",
        "\n",
        "# Step 2: Import modules\n",
        "import re\n",
        "import requests\n",
        "from bs4 import BeautifulSoup\n",
        "from tqdm import tqdm\n",
        "\n",
        "# Step 3: Load the sitemap\n",
        "sitemap_url = 'https://www.thapar.edu/sitemap.xml'\n",
        "response = requests.get(sitemap_url)\n",
        "soup = BeautifulSoup(response.content, 'xml')\n",
        "\n",
        "# Step 4: Extract all URLs\n",
        "urls = [loc.text for loc in soup.find_all('loc')]\n",
        "\n",
        "# Step 5: Crawl each page and extract emails\n",
        "email_set = set()\n",
        "\n",
        "for url in tqdm(urls[:50]):  # You can increase the range if needed\n",
        "    try:\n",
        "        page = requests.get(url, timeout=5)\n",
        "        text = page.text\n",
        "        emails = re.findall(r'[a-zA-Z0-9._%+-]+@[a-zA-Z0-9.-]+\\.[a-zA-Z]{2,}', text)\n",
        "        email_set.update(emails)\n",
        "    except Exception as e:\n",
        "        print(f\"❌ Error scraping {url}: {e}\")\n",
        "\n",
        "# Step 6: Display Results\n",
        "print(f\"\\n✅ Found {len(email_set)} unique emails:\\n\")\n",
        "for email in sorted(email_set):\n",
        "    print(email)\n",
        "\n"
      ]
    },
    {
      "cell_type": "code",
      "source": [
        "pdf.cell(200, 10, txt=\"Extracted Emails from Thapar Sitemap\", ln=True, align='C')\n"
      ],
      "metadata": {
        "id": "0eGMG6p0p8vA"
      },
      "execution_count": null,
      "outputs": []
    },
    {
      "cell_type": "code",
      "source": [
        "from fpdf import FPDF\n",
        "\n",
        "pdf = FPDF()\n",
        "pdf.add_page()\n",
        "pdf.set_font(\"Arial\", size=12)\n",
        "\n",
        "# ✅ Use ASCII-only title (no emojis)\n",
        "pdf.cell(200, 10, txt=\"Extracted Emails from Thapar Sitemap\", ln=True, align='C')\n",
        "pdf.ln(10)\n",
        "\n",
        "# Add emails\n",
        "for email in sorted(email_set):\n",
        "    pdf.cell(200, 10, txt=email, ln=True)\n",
        "\n",
        "# Save PDF\n",
        "pdf.output(\"thapar_emails.pdf\")\n",
        "print(\"✅ PDF saved as 'thapar_emails.pdf'\")\n",
        "\n",
        "# Download in Colab\n",
        "from google.colab import files\n",
        "files.download(\"thapar_emails.pdf\")\n",
        "\n"
      ],
      "metadata": {
        "colab": {
          "base_uri": "https://localhost:8080/",
          "height": 34
        },
        "id": "TBaSf9Nppboe",
        "outputId": "e7d2087b-c7f7-4afb-b1f8-d96c0de1441a"
      },
      "execution_count": null,
      "outputs": [
        {
          "output_type": "stream",
          "name": "stdout",
          "text": [
            "✅ PDF saved as 'thapar_emails.pdf'\n"
          ]
        },
        {
          "output_type": "display_data",
          "data": {
            "text/plain": [
              "<IPython.core.display.Javascript object>"
            ],
            "application/javascript": [
              "\n",
              "    async function download(id, filename, size) {\n",
              "      if (!google.colab.kernel.accessAllowed) {\n",
              "        return;\n",
              "      }\n",
              "      const div = document.createElement('div');\n",
              "      const label = document.createElement('label');\n",
              "      label.textContent = `Downloading \"${filename}\": `;\n",
              "      div.appendChild(label);\n",
              "      const progress = document.createElement('progress');\n",
              "      progress.max = size;\n",
              "      div.appendChild(progress);\n",
              "      document.body.appendChild(div);\n",
              "\n",
              "      const buffers = [];\n",
              "      let downloaded = 0;\n",
              "\n",
              "      const channel = await google.colab.kernel.comms.open(id);\n",
              "      // Send a message to notify the kernel that we're ready.\n",
              "      channel.send({})\n",
              "\n",
              "      for await (const message of channel.messages) {\n",
              "        // Send a message to notify the kernel that we're ready.\n",
              "        channel.send({})\n",
              "        if (message.buffers) {\n",
              "          for (const buffer of message.buffers) {\n",
              "            buffers.push(buffer);\n",
              "            downloaded += buffer.byteLength;\n",
              "            progress.value = downloaded;\n",
              "          }\n",
              "        }\n",
              "      }\n",
              "      const blob = new Blob(buffers, {type: 'application/binary'});\n",
              "      const a = document.createElement('a');\n",
              "      a.href = window.URL.createObjectURL(blob);\n",
              "      a.download = filename;\n",
              "      div.appendChild(a);\n",
              "      a.click();\n",
              "      div.remove();\n",
              "    }\n",
              "  "
            ]
          },
          "metadata": {}
        },
        {
          "output_type": "display_data",
          "data": {
            "text/plain": [
              "<IPython.core.display.Javascript object>"
            ],
            "application/javascript": [
              "download(\"download_ea1e46cd-279e-4a73-b7b7-b7cf5f19eb76\", \"thapar_emails.pdf\", 2135)"
            ]
          },
          "metadata": {}
        }
      ]
    }
  ]
}